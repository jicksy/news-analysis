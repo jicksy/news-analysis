{
 "cells": [
  {
   "cell_type": "markdown",
   "metadata": {},
   "source": [
    "## Data Initial Check"
   ]
  },
  {
   "cell_type": "code",
   "execution_count": 1,
   "metadata": {},
   "outputs": [],
   "source": [
    "#Import necessary modules\n",
    "import pandas as pd\n",
    "import numpy as np\n",
    "import matplotlib.pyplot as plt"
   ]
  },
  {
   "cell_type": "code",
   "execution_count": 2,
   "metadata": {},
   "outputs": [],
   "source": [
    "df = pd.read_csv('data_project_final.csv', date_parser='publishedAt')"
   ]
  },
  {
   "cell_type": "code",
   "execution_count": 3,
   "metadata": {},
   "outputs": [
    {
     "data": {
      "text/html": [
       "<div>\n",
       "<style scoped>\n",
       "    .dataframe tbody tr th:only-of-type {\n",
       "        vertical-align: middle;\n",
       "    }\n",
       "\n",
       "    .dataframe tbody tr th {\n",
       "        vertical-align: top;\n",
       "    }\n",
       "\n",
       "    .dataframe thead th {\n",
       "        text-align: right;\n",
       "    }\n",
       "</style>\n",
       "<table border=\"1\" class=\"dataframe\">\n",
       "  <thead>\n",
       "    <tr style=\"text-align: right;\">\n",
       "      <th></th>\n",
       "      <th>title</th>\n",
       "      <th>name</th>\n",
       "      <th>author</th>\n",
       "      <th>url</th>\n",
       "      <th>publishedAt</th>\n",
       "    </tr>\n",
       "  </thead>\n",
       "  <tbody>\n",
       "    <tr>\n",
       "      <th>0</th>\n",
       "      <td>Ask Ethan: Would Life On Earth Be Possible If ...</td>\n",
       "      <td>Medium.com,</td>\n",
       "      <td>Ethan Siegel,</td>\n",
       "      <td>https://medium.com/starts-with-a-bang/ask-etha...</td>\n",
       "      <td>2018-07-14T14:01:01Z</td>\n",
       "    </tr>\n",
       "    <tr>\n",
       "      <th>1</th>\n",
       "      <td>To Recruit Students, Colleges Turn to Corporat...</td>\n",
       "      <td>The Wall Street Journal,</td>\n",
       "      <td>Melissa Korn,</td>\n",
       "      <td>https://www.wsj.com/articles/to-recruit-studen...</td>\n",
       "      <td>2018-07-14T12:00:02Z</td>\n",
       "    </tr>\n",
       "    <tr>\n",
       "      <th>2</th>\n",
       "      <td>Video games and mental health: 'Nobody's prope...</td>\n",
       "      <td>BBC News,</td>\n",
       "      <td>https://www.facebook.com/bbcnews,</td>\n",
       "      <td>https://www.bbc.co.uk/news/newsbeat-44662669,</td>\n",
       "      <td>2018-07-14T00:27:36Z</td>\n",
       "    </tr>\n",
       "    <tr>\n",
       "      <th>3</th>\n",
       "      <td>Top June Stories: 5 Data Science Projects That...</td>\n",
       "      <td>Kdnuggets.com,</td>\n",
       "      <td>Gregory PS Editor,</td>\n",
       "      <td>https://www.kdnuggets.com/2018/07/top-stories-...</td>\n",
       "      <td>2018-07-13T20:42:59Z</td>\n",
       "    </tr>\n",
       "    <tr>\n",
       "      <th>4</th>\n",
       "      <td>Microsoft calls for better facial-recognition ...</td>\n",
       "      <td>Mashable,</td>\n",
       "      <td>Diamond Naga Siu,</td>\n",
       "      <td>https://mashable.com/2018/07/13/microsoft-face...</td>\n",
       "      <td>2018-07-13T19:07:45Z</td>\n",
       "    </tr>\n",
       "  </tbody>\n",
       "</table>\n",
       "</div>"
      ],
      "text/plain": [
       "                                               title  \\\n",
       "0  Ask Ethan: Would Life On Earth Be Possible If ...   \n",
       "1  To Recruit Students, Colleges Turn to Corporat...   \n",
       "2  Video games and mental health: 'Nobody's prope...   \n",
       "3  Top June Stories: 5 Data Science Projects That...   \n",
       "4  Microsoft calls for better facial-recognition ...   \n",
       "\n",
       "                       name                             author  \\\n",
       "0               Medium.com,                      Ethan Siegel,   \n",
       "1  The Wall Street Journal,                      Melissa Korn,   \n",
       "2                 BBC News,  https://www.facebook.com/bbcnews,   \n",
       "3            Kdnuggets.com,                 Gregory PS Editor,   \n",
       "4                 Mashable,                  Diamond Naga Siu,   \n",
       "\n",
       "                                                 url           publishedAt  \n",
       "0  https://medium.com/starts-with-a-bang/ask-etha...  2018-07-14T14:01:01Z  \n",
       "1  https://www.wsj.com/articles/to-recruit-studen...  2018-07-14T12:00:02Z  \n",
       "2      https://www.bbc.co.uk/news/newsbeat-44662669,  2018-07-14T00:27:36Z  \n",
       "3  https://www.kdnuggets.com/2018/07/top-stories-...  2018-07-13T20:42:59Z  \n",
       "4  https://mashable.com/2018/07/13/microsoft-face...  2018-07-13T19:07:45Z  "
      ]
     },
     "execution_count": 3,
     "metadata": {},
     "output_type": "execute_result"
    }
   ],
   "source": [
    "df.head(5)"
   ]
  },
  {
   "cell_type": "code",
   "execution_count": 4,
   "metadata": {},
   "outputs": [],
   "source": [
    "df['publishedAt'] = pd.to_datetime(df['publishedAt'])"
   ]
  },
  {
   "cell_type": "code",
   "execution_count": 5,
   "metadata": {},
   "outputs": [],
   "source": [
    "# Add a new column date to dataframe df\n",
    "df['date'] = (df['publishedAt'].dt.date)"
   ]
  },
  {
   "cell_type": "code",
   "execution_count": 6,
   "metadata": {},
   "outputs": [
    {
     "data": {
      "text/html": [
       "<div>\n",
       "<style scoped>\n",
       "    .dataframe tbody tr th:only-of-type {\n",
       "        vertical-align: middle;\n",
       "    }\n",
       "\n",
       "    .dataframe tbody tr th {\n",
       "        vertical-align: top;\n",
       "    }\n",
       "\n",
       "    .dataframe thead th {\n",
       "        text-align: right;\n",
       "    }\n",
       "</style>\n",
       "<table border=\"1\" class=\"dataframe\">\n",
       "  <thead>\n",
       "    <tr style=\"text-align: right;\">\n",
       "      <th></th>\n",
       "      <th>title</th>\n",
       "      <th>name</th>\n",
       "      <th>author</th>\n",
       "      <th>url</th>\n",
       "      <th>publishedAt</th>\n",
       "      <th>date</th>\n",
       "    </tr>\n",
       "  </thead>\n",
       "  <tbody>\n",
       "    <tr>\n",
       "      <th>0</th>\n",
       "      <td>Ask Ethan: Would Life On Earth Be Possible If ...</td>\n",
       "      <td>Medium.com,</td>\n",
       "      <td>Ethan Siegel,</td>\n",
       "      <td>https://medium.com/starts-with-a-bang/ask-etha...</td>\n",
       "      <td>2018-07-14 14:01:01</td>\n",
       "      <td>2018-07-14</td>\n",
       "    </tr>\n",
       "    <tr>\n",
       "      <th>1</th>\n",
       "      <td>To Recruit Students, Colleges Turn to Corporat...</td>\n",
       "      <td>The Wall Street Journal,</td>\n",
       "      <td>Melissa Korn,</td>\n",
       "      <td>https://www.wsj.com/articles/to-recruit-studen...</td>\n",
       "      <td>2018-07-14 12:00:02</td>\n",
       "      <td>2018-07-14</td>\n",
       "    </tr>\n",
       "    <tr>\n",
       "      <th>2</th>\n",
       "      <td>Video games and mental health: 'Nobody's prope...</td>\n",
       "      <td>BBC News,</td>\n",
       "      <td>https://www.facebook.com/bbcnews,</td>\n",
       "      <td>https://www.bbc.co.uk/news/newsbeat-44662669,</td>\n",
       "      <td>2018-07-14 00:27:36</td>\n",
       "      <td>2018-07-14</td>\n",
       "    </tr>\n",
       "    <tr>\n",
       "      <th>3</th>\n",
       "      <td>Top June Stories: 5 Data Science Projects That...</td>\n",
       "      <td>Kdnuggets.com,</td>\n",
       "      <td>Gregory PS Editor,</td>\n",
       "      <td>https://www.kdnuggets.com/2018/07/top-stories-...</td>\n",
       "      <td>2018-07-13 20:42:59</td>\n",
       "      <td>2018-07-13</td>\n",
       "    </tr>\n",
       "    <tr>\n",
       "      <th>4</th>\n",
       "      <td>Microsoft calls for better facial-recognition ...</td>\n",
       "      <td>Mashable,</td>\n",
       "      <td>Diamond Naga Siu,</td>\n",
       "      <td>https://mashable.com/2018/07/13/microsoft-face...</td>\n",
       "      <td>2018-07-13 19:07:45</td>\n",
       "      <td>2018-07-13</td>\n",
       "    </tr>\n",
       "  </tbody>\n",
       "</table>\n",
       "</div>"
      ],
      "text/plain": [
       "                                               title  \\\n",
       "0  Ask Ethan: Would Life On Earth Be Possible If ...   \n",
       "1  To Recruit Students, Colleges Turn to Corporat...   \n",
       "2  Video games and mental health: 'Nobody's prope...   \n",
       "3  Top June Stories: 5 Data Science Projects That...   \n",
       "4  Microsoft calls for better facial-recognition ...   \n",
       "\n",
       "                       name                             author  \\\n",
       "0               Medium.com,                      Ethan Siegel,   \n",
       "1  The Wall Street Journal,                      Melissa Korn,   \n",
       "2                 BBC News,  https://www.facebook.com/bbcnews,   \n",
       "3            Kdnuggets.com,                 Gregory PS Editor,   \n",
       "4                 Mashable,                  Diamond Naga Siu,   \n",
       "\n",
       "                                                 url         publishedAt  \\\n",
       "0  https://medium.com/starts-with-a-bang/ask-etha... 2018-07-14 14:01:01   \n",
       "1  https://www.wsj.com/articles/to-recruit-studen... 2018-07-14 12:00:02   \n",
       "2      https://www.bbc.co.uk/news/newsbeat-44662669, 2018-07-14 00:27:36   \n",
       "3  https://www.kdnuggets.com/2018/07/top-stories-... 2018-07-13 20:42:59   \n",
       "4  https://mashable.com/2018/07/13/microsoft-face... 2018-07-13 19:07:45   \n",
       "\n",
       "         date  \n",
       "0  2018-07-14  \n",
       "1  2018-07-14  \n",
       "2  2018-07-14  \n",
       "3  2018-07-13  \n",
       "4  2018-07-13  "
      ]
     },
     "execution_count": 6,
     "metadata": {},
     "output_type": "execute_result"
    }
   ],
   "source": [
    "df.head()"
   ]
  },
  {
   "cell_type": "code",
   "execution_count": 7,
   "metadata": {},
   "outputs": [
    {
     "data": {
      "text/plain": [
       "(9971, 6)"
      ]
     },
     "execution_count": 7,
     "metadata": {},
     "output_type": "execute_result"
    }
   ],
   "source": [
    "df.shape"
   ]
  }
 ],
 "metadata": {
  "kernelspec": {
   "display_name": "Python 3",
   "language": "python",
   "name": "python3"
  },
  "language_info": {
   "codemirror_mode": {
    "name": "ipython",
    "version": 3
   },
   "file_extension": ".py",
   "mimetype": "text/x-python",
   "name": "python",
   "nbconvert_exporter": "python",
   "pygments_lexer": "ipython3",
   "version": "3.6.5"
  },
  "toc": {
   "base_numbering": 1,
   "nav_menu": {},
   "number_sections": true,
   "sideBar": true,
   "skip_h1_title": false,
   "title_cell": "Table of Contents",
   "title_sidebar": "Contents",
   "toc_cell": false,
   "toc_position": {},
   "toc_section_display": true,
   "toc_window_display": false
  }
 },
 "nbformat": 4,
 "nbformat_minor": 2
}
