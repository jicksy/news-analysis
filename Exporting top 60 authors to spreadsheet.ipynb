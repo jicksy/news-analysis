{
 "cells": [
  {
   "cell_type": "code",
   "execution_count": 1,
   "metadata": {},
   "outputs": [],
   "source": [
    "#import all libraries\n",
    "import pandas as pd\n",
    "import matplotlib.pyplot as plt\n",
    "import csv as cs"
   ]
  },
  {
   "cell_type": "code",
   "execution_count": 2,
   "metadata": {},
   "outputs": [],
   "source": [
    "#Creating DataFrame for authors\n",
    "df = pd.read_csv('data_project_final.csv', date_parser='author')"
   ]
  },
  {
   "cell_type": "code",
   "execution_count": 3,
   "metadata": {},
   "outputs": [
    {
     "name": "stdout",
     "output_type": "stream",
     "text": [
      "Not Available,                                                                                                1555\n",
      "Matt Mayo Editor,                                                                                              483\n",
      "https://www.facebook.com/bbcnews,                                                                              269\n",
      "Dan Clark,                                                                                                     171\n",
      "Gregory PS Editor,                                                                                             163\n",
      "Tristan Greene,                                                                                                128\n",
      "Natasha Lomas,                                                                                                 104\n",
      "Reuters,                                                                                                        96\n",
      "Ron Miller,                                                                                                     80\n",
      "Frederic Lardinois,                                                                                             80\n",
      "Ingrid Lunden,                                                                                                  77\n",
      "Bernard Marr, Contributor, Bernard Marr, Contributor https://www.forbes.com/sites/bernardmarr/,                 74\n",
      "Jonathan Shieber,                                                                                               72\n",
      "Lea Nonninger,                                                                                                  71\n",
      "Gregory Piatetsky,                                                                                              57\n",
      "Danny Crichton,                                                                                                 56\n",
      "Shona Ghosh,                                                                                                    53\n",
      "Greg Sandoval,                                                                                                  51\n",
      "The Mission,                                                                                                    50\n",
      "Rachel Green,                                                                                                   48\n",
      "Laurie Beaver,                                                                                                  48\n",
      "Jon Russell,                                                                                                    46\n",
      "Matthew Lynley,                                                                                                 45\n",
      "Ben Lorica,                                                                                                     43\n",
      "Ronald van Loon,                                                                                                42\n",
      "Sarah Perez,                                                                                                    42\n",
      "Tara Francis Chan,                                                                                              40\n",
      "Josh Constine,                                                                                                  37\n",
      "Devin Coldewey,                                                                                                 37\n",
      "Becky Peterson,                                                                                                 36\n",
      "Catherine Shu,                                                                                                  36\n",
      "Daniel Keyes,                                                                                                   35\n",
      "Nicky Lineaweaver,                                                                                              35\n",
      "ktran@businessinsider.com (Kevin Tran), Kevin Tran,                                                             35\n",
      "Rayna Hollander,                                                                                                35\n",
      "Prachi Bhardwaj,                                                                                                35\n",
      "Ethan Siegel,                                                                                                   34\n",
      "Frank Chaparro,                                                                                                 34\n",
      "Nat Torkington,                                                                                                 34\n",
      "Sam Shead, Contributor, Sam Shead, Contributor https://www.forbes.com/sites/samshead/,                          34\n",
      "Jacob Sonenshine,                                                                                               34\n",
      "ADP Contributor, ADP, ADP Contributor, ADP https://www.forbes.com/sites/adp/people/adpcontributor/,             33\n",
      "Nicholas Shields,                                                                                               33\n",
      "Erin Brodwin,                                                                                                   32\n",
      "Graham Rapier,                                                                                                  31\n",
      "Karissa Bell,                                                                                                   30\n",
      "Anthony Ha,                                                                                                     30\n",
      "Julie Bort,                                                                                                     29\n",
      "Matthew Mayo,                                                                                                   29\n",
      "Mark Kaufman,                                                                                                   28\n",
      "Tanya Dua,                                                                                                      28\n",
      "Matt Weinberger,                                                                                                28\n",
      "Ben Dickson,                                                                                                    27\n",
      "Kif Leswing,                                                                                                    27\n",
      "SAP Guest, SAP, SAP Guest, SAP https://www.forbes.com/sites/sap/people/sapguest/,                               26\n",
      "Sonam Sheth,                                                                                                    26\n",
      "Insights Team, Forbes Insights, Insights Team, Forbes Insights https://www.forbes.com/sites/insightsteam/,      26\n",
      "WSJ Staff,                                                                                                      25\n",
      "Joe Ciolli,                                                                                                     25\n",
      "Susan Galer, SAP, Susan Galer, SAP https://www.forbes.com/sites/sap/people/susangaler/,                         25\n",
      "Name: author, dtype: int64\n"
     ]
    }
   ],
   "source": [
    "#Printing the top 60 authors list to be exported\n",
    "\n",
    "print(df['author'].value_counts().nlargest(60))\n",
    "\n"
   ]
  }
 ],
 "metadata": {
  "kernelspec": {
   "display_name": "Python 3",
   "language": "python",
   "name": "python3"
  },
  "language_info": {
   "codemirror_mode": {
    "name": "ipython",
    "version": 3
   },
   "file_extension": ".py",
   "mimetype": "text/x-python",
   "name": "python",
   "nbconvert_exporter": "python",
   "pygments_lexer": "ipython3",
   "version": "3.6.5"
  }
 },
 "nbformat": 4,
 "nbformat_minor": 2
}
