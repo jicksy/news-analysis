{
 "cells": [
  {
   "cell_type": "code",
   "execution_count": 2,
   "metadata": {},
   "outputs": [],
   "source": [
    "import pandas as pd\n",
    "import numpy as np\n",
    "import matplotlib.pyplot as plt"
   ]
  },
  {
   "cell_type": "code",
   "execution_count": 15,
   "metadata": {},
   "outputs": [],
   "source": [
    "df = pd.read_csv('data_project_final.csv', date_parser='publishedAt')"
   ]
  },
  {
   "cell_type": "code",
   "execution_count": 4,
   "metadata": {},
   "outputs": [
    {
     "data": {
      "text/html": [
       "<div>\n",
       "<style scoped>\n",
       "    .dataframe tbody tr th:only-of-type {\n",
       "        vertical-align: middle;\n",
       "    }\n",
       "\n",
       "    .dataframe tbody tr th {\n",
       "        vertical-align: top;\n",
       "    }\n",
       "\n",
       "    .dataframe thead th {\n",
       "        text-align: right;\n",
       "    }\n",
       "</style>\n",
       "<table border=\"1\" class=\"dataframe\">\n",
       "  <thead>\n",
       "    <tr style=\"text-align: right;\">\n",
       "      <th></th>\n",
       "      <th>title</th>\n",
       "      <th>name</th>\n",
       "      <th>author</th>\n",
       "      <th>url</th>\n",
       "      <th>publishedAt</th>\n",
       "    </tr>\n",
       "  </thead>\n",
       "  <tbody>\n",
       "    <tr>\n",
       "      <th>0</th>\n",
       "      <td>Ask Ethan: Would Life On Earth Be Possible If ...</td>\n",
       "      <td>Medium.com,</td>\n",
       "      <td>Ethan Siegel,</td>\n",
       "      <td>https://medium.com/starts-with-a-bang/ask-etha...</td>\n",
       "      <td>2018-07-14T14:01:01Z</td>\n",
       "    </tr>\n",
       "    <tr>\n",
       "      <th>1</th>\n",
       "      <td>To Recruit Students, Colleges Turn to Corporat...</td>\n",
       "      <td>The Wall Street Journal,</td>\n",
       "      <td>Melissa Korn,</td>\n",
       "      <td>https://www.wsj.com/articles/to-recruit-studen...</td>\n",
       "      <td>2018-07-14T12:00:02Z</td>\n",
       "    </tr>\n",
       "    <tr>\n",
       "      <th>2</th>\n",
       "      <td>Video games and mental health: 'Nobody's prope...</td>\n",
       "      <td>BBC News,</td>\n",
       "      <td>https://www.facebook.com/bbcnews,</td>\n",
       "      <td>https://www.bbc.co.uk/news/newsbeat-44662669,</td>\n",
       "      <td>2018-07-14T00:27:36Z</td>\n",
       "    </tr>\n",
       "  </tbody>\n",
       "</table>\n",
       "</div>"
      ],
      "text/plain": [
       "                                               title  \\\n",
       "0  Ask Ethan: Would Life On Earth Be Possible If ...   \n",
       "1  To Recruit Students, Colleges Turn to Corporat...   \n",
       "2  Video games and mental health: 'Nobody's prope...   \n",
       "\n",
       "                       name                             author  \\\n",
       "0               Medium.com,                      Ethan Siegel,   \n",
       "1  The Wall Street Journal,                      Melissa Korn,   \n",
       "2                 BBC News,  https://www.facebook.com/bbcnews,   \n",
       "\n",
       "                                                 url           publishedAt  \n",
       "0  https://medium.com/starts-with-a-bang/ask-etha...  2018-07-14T14:01:01Z  \n",
       "1  https://www.wsj.com/articles/to-recruit-studen...  2018-07-14T12:00:02Z  \n",
       "2      https://www.bbc.co.uk/news/newsbeat-44662669,  2018-07-14T00:27:36Z  "
      ]
     },
     "execution_count": 4,
     "metadata": {},
     "output_type": "execute_result"
    }
   ],
   "source": [
    "df.head(3)"
   ]
  },
  {
   "cell_type": "code",
   "execution_count": 5,
   "metadata": {},
   "outputs": [],
   "source": [
    "df['publishedAt'] = pd.to_datetime(df['publishedAt'])"
   ]
  },
  {
   "cell_type": "code",
   "execution_count": 6,
   "metadata": {},
   "outputs": [],
   "source": [
    "df['date'] = (df['publishedAt'].dt.date)"
   ]
  },
  {
   "cell_type": "code",
   "execution_count": 7,
   "metadata": {},
   "outputs": [
    {
     "data": {
      "text/html": [
       "<div>\n",
       "<style scoped>\n",
       "    .dataframe tbody tr th:only-of-type {\n",
       "        vertical-align: middle;\n",
       "    }\n",
       "\n",
       "    .dataframe tbody tr th {\n",
       "        vertical-align: top;\n",
       "    }\n",
       "\n",
       "    .dataframe thead th {\n",
       "        text-align: right;\n",
       "    }\n",
       "</style>\n",
       "<table border=\"1\" class=\"dataframe\">\n",
       "  <thead>\n",
       "    <tr style=\"text-align: right;\">\n",
       "      <th></th>\n",
       "      <th>title</th>\n",
       "      <th>name</th>\n",
       "      <th>author</th>\n",
       "      <th>url</th>\n",
       "      <th>publishedAt</th>\n",
       "      <th>date</th>\n",
       "    </tr>\n",
       "  </thead>\n",
       "  <tbody>\n",
       "    <tr>\n",
       "      <th>0</th>\n",
       "      <td>Ask Ethan: Would Life On Earth Be Possible If ...</td>\n",
       "      <td>Medium.com,</td>\n",
       "      <td>Ethan Siegel,</td>\n",
       "      <td>https://medium.com/starts-with-a-bang/ask-etha...</td>\n",
       "      <td>2018-07-14 14:01:01</td>\n",
       "      <td>2018-07-14</td>\n",
       "    </tr>\n",
       "    <tr>\n",
       "      <th>1</th>\n",
       "      <td>To Recruit Students, Colleges Turn to Corporat...</td>\n",
       "      <td>The Wall Street Journal,</td>\n",
       "      <td>Melissa Korn,</td>\n",
       "      <td>https://www.wsj.com/articles/to-recruit-studen...</td>\n",
       "      <td>2018-07-14 12:00:02</td>\n",
       "      <td>2018-07-14</td>\n",
       "    </tr>\n",
       "    <tr>\n",
       "      <th>2</th>\n",
       "      <td>Video games and mental health: 'Nobody's prope...</td>\n",
       "      <td>BBC News,</td>\n",
       "      <td>https://www.facebook.com/bbcnews,</td>\n",
       "      <td>https://www.bbc.co.uk/news/newsbeat-44662669,</td>\n",
       "      <td>2018-07-14 00:27:36</td>\n",
       "      <td>2018-07-14</td>\n",
       "    </tr>\n",
       "    <tr>\n",
       "      <th>3</th>\n",
       "      <td>Top June Stories: 5 Data Science Projects That...</td>\n",
       "      <td>Kdnuggets.com,</td>\n",
       "      <td>Gregory PS Editor,</td>\n",
       "      <td>https://www.kdnuggets.com/2018/07/top-stories-...</td>\n",
       "      <td>2018-07-13 20:42:59</td>\n",
       "      <td>2018-07-13</td>\n",
       "    </tr>\n",
       "    <tr>\n",
       "      <th>4</th>\n",
       "      <td>Microsoft calls for better facial-recognition ...</td>\n",
       "      <td>Mashable,</td>\n",
       "      <td>Diamond Naga Siu,</td>\n",
       "      <td>https://mashable.com/2018/07/13/microsoft-face...</td>\n",
       "      <td>2018-07-13 19:07:45</td>\n",
       "      <td>2018-07-13</td>\n",
       "    </tr>\n",
       "  </tbody>\n",
       "</table>\n",
       "</div>"
      ],
      "text/plain": [
       "                                               title  \\\n",
       "0  Ask Ethan: Would Life On Earth Be Possible If ...   \n",
       "1  To Recruit Students, Colleges Turn to Corporat...   \n",
       "2  Video games and mental health: 'Nobody's prope...   \n",
       "3  Top June Stories: 5 Data Science Projects That...   \n",
       "4  Microsoft calls for better facial-recognition ...   \n",
       "\n",
       "                       name                             author  \\\n",
       "0               Medium.com,                      Ethan Siegel,   \n",
       "1  The Wall Street Journal,                      Melissa Korn,   \n",
       "2                 BBC News,  https://www.facebook.com/bbcnews,   \n",
       "3            Kdnuggets.com,                 Gregory PS Editor,   \n",
       "4                 Mashable,                  Diamond Naga Siu,   \n",
       "\n",
       "                                                 url         publishedAt  \\\n",
       "0  https://medium.com/starts-with-a-bang/ask-etha... 2018-07-14 14:01:01   \n",
       "1  https://www.wsj.com/articles/to-recruit-studen... 2018-07-14 12:00:02   \n",
       "2      https://www.bbc.co.uk/news/newsbeat-44662669, 2018-07-14 00:27:36   \n",
       "3  https://www.kdnuggets.com/2018/07/top-stories-... 2018-07-13 20:42:59   \n",
       "4  https://mashable.com/2018/07/13/microsoft-face... 2018-07-13 19:07:45   \n",
       "\n",
       "         date  \n",
       "0  2018-07-14  \n",
       "1  2018-07-14  \n",
       "2  2018-07-14  \n",
       "3  2018-07-13  \n",
       "4  2018-07-13  "
      ]
     },
     "execution_count": 7,
     "metadata": {},
     "output_type": "execute_result"
    }
   ],
   "source": [
    "df.head()"
   ]
  },
  {
   "cell_type": "code",
   "execution_count": 27,
   "metadata": {},
   "outputs": [
    {
     "data": {
      "text/plain": [
       "0                                   Ethan\n",
       "1                                 Melissa\n",
       "2       https://www.facebook.com/bbcnews,\n",
       "3                                 Gregory\n",
       "4                                 Diamond\n",
       "5                                   Jacob\n",
       "6                                  Hilary\n",
       "7                                 Gregory\n",
       "8                                     The\n",
       "9                                   Ethan\n",
       "10                                Saurabh\n",
       "11                               Reuters,\n",
       "12                                   Tony\n",
       "13                                  Tanya\n",
       "14                                  Susan\n",
       "15      https://www.facebook.com/bbcnews,\n",
       "16                                Gregory\n",
       "17                                  Louis\n",
       "18                                   Paul\n",
       "19                                 Robert\n",
       "20                                  Kasia\n",
       "21                                Gregory\n",
       "22      https://www.facebook.com/bbcnews,\n",
       "23                                 Thomas\n",
       "24                                  David\n",
       "25                                 Graham\n",
       "26                                  David\n",
       "27                               Frederic\n",
       "28                                   Bain\n",
       "29                                   Ryan\n",
       "                      ...                \n",
       "9941                               Monica\n",
       "9942                                 Aili\n",
       "9943    https://www.facebook.com/bbcnews,\n",
       "9944                                  Bob\n",
       "9945                                  Tom\n",
       "9946                                  Gil\n",
       "9947                                Julie\n",
       "9948                                  Not\n",
       "9949                                 Troy\n",
       "9950                                Julie\n",
       "9951    https://www.facebook.com/bbcnews,\n",
       "9952                             Kimberly\n",
       "9953                             Kimberly\n",
       "9954                                Kerry\n",
       "9955                              Tristan\n",
       "9956          lbeaver@businessinsider.com\n",
       "9957                               Ingrid\n",
       "9958                              Jessica\n",
       "9959                             Jitendra\n",
       "9960                                Boris\n",
       "9961                               Forbes\n",
       "9962                             Kimberly\n",
       "9963                              Edoardo\n",
       "9964    https://www.facebook.com/bbcnews,\n",
       "9965                               Laurie\n",
       "9966                                  Not\n",
       "9967                                  Not\n",
       "9968                                  EY,\n",
       "9969                               Steven\n",
       "9970                                  Joe\n",
       "Name: author, Length: 9971, dtype: object"
      ]
     },
     "execution_count": 27,
     "metadata": {},
     "output_type": "execute_result"
    }
   ],
   "source": [
    "df['author'].apply(lambda x: x.split(' ')[0])"
   ]
  },
  {
   "cell_type": "code",
   "execution_count": 30,
   "metadata": {},
   "outputs": [
    {
     "data": {
      "text/plain": [
       "'jicksy'"
      ]
     },
     "execution_count": 30,
     "metadata": {},
     "output_type": "execute_result"
    }
   ],
   "source": [
    "\"jicksy john\".split(' ')[0]"
   ]
  },
  {
   "cell_type": "code",
   "execution_count": null,
   "metadata": {},
   "outputs": [],
   "source": []
  }
 ],
 "metadata": {
  "kernelspec": {
   "display_name": "Python 3",
   "language": "python",
   "name": "python3"
  },
  "language_info": {
   "codemirror_mode": {
    "name": "ipython",
    "version": 3
   },
   "file_extension": ".py",
   "mimetype": "text/x-python",
   "name": "python",
   "nbconvert_exporter": "python",
   "pygments_lexer": "ipython3",
   "version": "3.6.5"
  },
  "toc": {
   "base_numbering": 1,
   "nav_menu": {},
   "number_sections": true,
   "sideBar": true,
   "skip_h1_title": false,
   "title_cell": "Table of Contents",
   "title_sidebar": "Contents",
   "toc_cell": false,
   "toc_position": {},
   "toc_section_display": true,
   "toc_window_display": false
  }
 },
 "nbformat": 4,
 "nbformat_minor": 2
}
