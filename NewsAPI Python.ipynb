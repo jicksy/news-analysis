{
 "cells": [
  {
   "cell_type": "markdown",
   "metadata": {},
   "source": [
    "# Imports and installations"
   ]
  },
  {
   "cell_type": "code",
   "execution_count": null,
   "metadata": {},
   "outputs": [],
   "source": [
    "!pip install newsapi-python"
   ]
  },
  {
   "cell_type": "code",
   "execution_count": 1,
   "metadata": {},
   "outputs": [],
   "source": [
    "from newsapi import NewsApiClient\n",
    "import pandas as pd"
   ]
  },
  {
   "cell_type": "code",
   "execution_count": 2,
   "metadata": {},
   "outputs": [],
   "source": [
    "newsapi = NewsApiClient(api_key='YOUR KEY HERE')\n"
   ]
  },
  {
   "cell_type": "code",
   "execution_count": 3,
   "metadata": {},
   "outputs": [],
   "source": [
    "# Define function fetchdata which fetches data using newsapi\n",
    "\n",
    "def fetchdata(param):\n",
    "    counter = 1\n",
    "    while counter <=100:\n",
    "        all_articles = newsapi.get_everything(language='en', \n",
    "                                          q = param, \n",
    "                                          domains='modeanalytics.com, oreilly.com, kdnuggets.com, techcrunch.com, towardsdatascience.com, Datasciencecentral.com, medium.com, forbes.com, kaggle.com, mashable.com, wsj.com, linkedin.com, bbc.co.uk, businessinsider.com, thenextweb.com, twitter.com',\n",
    "                                          sort_by='publishedAt', \n",
    "                                          page =counter\n",
    "                                          )\n",
    "    \n",
    "        i = 0\n",
    "        for iter in (all_articles['articles']):\n",
    "        \n",
    "#while (i <= 500):   \n",
    "           if all_articles['articles'][i]['author'] is None:\n",
    "               all_articles['articles'][i]['author'] = \"Not Available\"\n",
    "           if all_articles['articles'][i]['publishedAt'] is None:\n",
    "               all_articles['articles'][i]['publishedAt'] = \"Not Available\"\n",
    "           if all_articles['articles'][i]['title'] is None:\n",
    "               all_articles['articles'][i]['title'] = \"Not Available\"\n",
    "           if all_articles['articles'][i]['url'] is None:\n",
    "               all_articles['articles'][i]['url'] = \"Not Available\"\n",
    "           if all_articles['articles'][i]['source']['name'] is None:\n",
    "               all_articles['articles'][i]['source']['name'] = \"Not Available\"\n",
    "           print(all_articles['articles'][i]['title']+ \",\" + \n",
    "                 \"\\t\"+all_articles['articles'][i]['source']['name']+\",\"+ \n",
    "                 \"\\t\"+all_articles['articles'][i]['author']+ \",\"+\n",
    "                 \"\\t\"+all_articles['articles'][i]['url']+ \",\"+\n",
    "                 \"\\t\"+all_articles['articles'][i]['publishedAt'], file = f)\n",
    "             \n",
    "\n",
    "       #print((row))\n",
    "       #csv.write(string(row))\n",
    "           i += 1\n",
    "    \n",
    "        counter += 1\n"
   ]
  },
  {
   "cell_type": "code",
   "execution_count": 4,
   "metadata": {},
   "outputs": [],
   "source": [
    "f = open('sample_text','w')\n",
    "\n",
    "fetchdata('data science')\n",
    "fetchdata('data analytics')\n",
    "fetchdata('machine learning')\n",
    "fetchdata('business intelligence')\n",
    "fetchdata('artificial intelligence')\n",
    "\n",
    "f.close()"
   ]
  },
  {
   "cell_type": "code",
   "execution_count": 6,
   "metadata": {},
   "outputs": [],
   "source": [
    "df = pd.read_csv('sample_text', delimiter='\\t')"
   ]
  },
  {
   "cell_type": "code",
   "execution_count": 7,
   "metadata": {
    "scrolled": true
   },
   "outputs": [
    {
     "data": {
      "text/html": [
       "<div>\n",
       "<style scoped>\n",
       "    .dataframe tbody tr th:only-of-type {\n",
       "        vertical-align: middle;\n",
       "    }\n",
       "\n",
       "    .dataframe tbody tr th {\n",
       "        vertical-align: top;\n",
       "    }\n",
       "\n",
       "    .dataframe thead th {\n",
       "        text-align: right;\n",
       "    }\n",
       "</style>\n",
       "<table border=\"1\" class=\"dataframe\">\n",
       "  <thead>\n",
       "    <tr style=\"text-align: right;\">\n",
       "      <th></th>\n",
       "      <th>Happy 25th Birthday, KDnuggets,</th>\n",
       "      <th>Kdnuggets.com,</th>\n",
       "      <th>Gregory Piatetsky,</th>\n",
       "      <th>https://www.kdnuggets.com/2018/07/kdnuggets-25-years.html,</th>\n",
       "      <th>2018-07-23T19:52:02Z</th>\n",
       "    </tr>\n",
       "  </thead>\n",
       "  <tbody>\n",
       "    <tr>\n",
       "      <th>0</th>\n",
       "      <td>Economists Can't Write Economically, Driving D...</td>\n",
       "      <td>The Wall Street Journal,</td>\n",
       "      <td>Ben Leubsdorf,</td>\n",
       "      <td>https://www.wsj.com/articles/economists-cant-w...</td>\n",
       "      <td>2018-07-23T19:41:59Z</td>\n",
       "    </tr>\n",
       "    <tr>\n",
       "      <th>1</th>\n",
       "      <td>Improve Data Science Productivity with Anacond...</td>\n",
       "      <td>Kdnuggets.com,</td>\n",
       "      <td>Matt Mayo Editor,</td>\n",
       "      <td>https://www.kdnuggets.com/2018/07/anaconda-imp...</td>\n",
       "      <td>2018-07-23T18:32:37Z</td>\n",
       "    </tr>\n",
       "    <tr>\n",
       "      <th>2</th>\n",
       "      <td>The SciArt Movement: Why Facebook, MIT And Aut...</td>\n",
       "      <td>Forbes.com,</td>\n",
       "      <td>Andrew Goldsmith, Contributor, Andrew Goldsmit...</td>\n",
       "      <td>https://www.forbes.com/sites/andrewgoldsmith/2...</td>\n",
       "      <td>2018-07-23T17:46:00Z</td>\n",
       "    </tr>\n",
       "    <tr>\n",
       "      <th>3</th>\n",
       "      <td>The Washington Post, Alibaba.com &amp; ING – Learn...</td>\n",
       "      <td>Kdnuggets.com,</td>\n",
       "      <td>Matt Mayo Editor,</td>\n",
       "      <td>https://www.kdnuggets.com/2018/07/paw-london-l...</td>\n",
       "      <td>2018-07-23T17:28:04Z</td>\n",
       "    </tr>\n",
       "    <tr>\n",
       "      <th>4</th>\n",
       "      <td>CEOs: Model Or Die,</td>\n",
       "      <td>Forbes.com,</td>\n",
       "      <td>Valley Voices, Contributor, Valley Voices, Con...</td>\n",
       "      <td>https://www.forbes.com/sites/valleyvoices/2018...</td>\n",
       "      <td>2018-07-23T16:15:00Z</td>\n",
       "    </tr>\n",
       "  </tbody>\n",
       "</table>\n",
       "</div>"
      ],
      "text/plain": [
       "                     Happy 25th Birthday, KDnuggets,  \\\n",
       "0  Economists Can't Write Economically, Driving D...   \n",
       "1  Improve Data Science Productivity with Anacond...   \n",
       "2  The SciArt Movement: Why Facebook, MIT And Aut...   \n",
       "3  The Washington Post, Alibaba.com & ING – Learn...   \n",
       "4                                CEOs: Model Or Die,   \n",
       "\n",
       "             Kdnuggets.com,  \\\n",
       "0  The Wall Street Journal,   \n",
       "1            Kdnuggets.com,   \n",
       "2               Forbes.com,   \n",
       "3            Kdnuggets.com,   \n",
       "4               Forbes.com,   \n",
       "\n",
       "                                  Gregory Piatetsky,  \\\n",
       "0                                     Ben Leubsdorf,   \n",
       "1                                  Matt Mayo Editor,   \n",
       "2  Andrew Goldsmith, Contributor, Andrew Goldsmit...   \n",
       "3                                  Matt Mayo Editor,   \n",
       "4  Valley Voices, Contributor, Valley Voices, Con...   \n",
       "\n",
       "  https://www.kdnuggets.com/2018/07/kdnuggets-25-years.html,  \\\n",
       "0  https://www.wsj.com/articles/economists-cant-w...           \n",
       "1  https://www.kdnuggets.com/2018/07/anaconda-imp...           \n",
       "2  https://www.forbes.com/sites/andrewgoldsmith/2...           \n",
       "3  https://www.kdnuggets.com/2018/07/paw-london-l...           \n",
       "4  https://www.forbes.com/sites/valleyvoices/2018...           \n",
       "\n",
       "   2018-07-23T19:52:02Z  \n",
       "0  2018-07-23T19:41:59Z  \n",
       "1  2018-07-23T18:32:37Z  \n",
       "2  2018-07-23T17:46:00Z  \n",
       "3  2018-07-23T17:28:04Z  \n",
       "4  2018-07-23T16:15:00Z  "
      ]
     },
     "execution_count": 7,
     "metadata": {},
     "output_type": "execute_result"
    }
   ],
   "source": [
    "df.head()"
   ]
  },
  {
   "cell_type": "markdown",
   "metadata": {},
   "source": [
    "We see that column names are missing, let us add it."
   ]
  },
  {
   "cell_type": "code",
   "execution_count": 8,
   "metadata": {},
   "outputs": [],
   "source": [
    "df.columns = ['title', 'name', 'author', 'url', 'publishedAt']"
   ]
  },
  {
   "cell_type": "code",
   "execution_count": 9,
   "metadata": {
    "scrolled": true
   },
   "outputs": [
    {
     "data": {
      "text/html": [
       "<div>\n",
       "<style scoped>\n",
       "    .dataframe tbody tr th:only-of-type {\n",
       "        vertical-align: middle;\n",
       "    }\n",
       "\n",
       "    .dataframe tbody tr th {\n",
       "        vertical-align: top;\n",
       "    }\n",
       "\n",
       "    .dataframe thead th {\n",
       "        text-align: right;\n",
       "    }\n",
       "</style>\n",
       "<table border=\"1\" class=\"dataframe\">\n",
       "  <thead>\n",
       "    <tr style=\"text-align: right;\">\n",
       "      <th></th>\n",
       "      <th>title</th>\n",
       "      <th>name</th>\n",
       "      <th>author</th>\n",
       "      <th>url</th>\n",
       "      <th>publishedAt</th>\n",
       "    </tr>\n",
       "  </thead>\n",
       "  <tbody>\n",
       "    <tr>\n",
       "      <th>0</th>\n",
       "      <td>Economists Can't Write Economically, Driving D...</td>\n",
       "      <td>The Wall Street Journal,</td>\n",
       "      <td>Ben Leubsdorf,</td>\n",
       "      <td>https://www.wsj.com/articles/economists-cant-w...</td>\n",
       "      <td>2018-07-23T19:41:59Z</td>\n",
       "    </tr>\n",
       "    <tr>\n",
       "      <th>1</th>\n",
       "      <td>Improve Data Science Productivity with Anacond...</td>\n",
       "      <td>Kdnuggets.com,</td>\n",
       "      <td>Matt Mayo Editor,</td>\n",
       "      <td>https://www.kdnuggets.com/2018/07/anaconda-imp...</td>\n",
       "      <td>2018-07-23T18:32:37Z</td>\n",
       "    </tr>\n",
       "    <tr>\n",
       "      <th>2</th>\n",
       "      <td>The SciArt Movement: Why Facebook, MIT And Aut...</td>\n",
       "      <td>Forbes.com,</td>\n",
       "      <td>Andrew Goldsmith, Contributor, Andrew Goldsmit...</td>\n",
       "      <td>https://www.forbes.com/sites/andrewgoldsmith/2...</td>\n",
       "      <td>2018-07-23T17:46:00Z</td>\n",
       "    </tr>\n",
       "    <tr>\n",
       "      <th>3</th>\n",
       "      <td>The Washington Post, Alibaba.com &amp; ING – Learn...</td>\n",
       "      <td>Kdnuggets.com,</td>\n",
       "      <td>Matt Mayo Editor,</td>\n",
       "      <td>https://www.kdnuggets.com/2018/07/paw-london-l...</td>\n",
       "      <td>2018-07-23T17:28:04Z</td>\n",
       "    </tr>\n",
       "    <tr>\n",
       "      <th>4</th>\n",
       "      <td>CEOs: Model Or Die,</td>\n",
       "      <td>Forbes.com,</td>\n",
       "      <td>Valley Voices, Contributor, Valley Voices, Con...</td>\n",
       "      <td>https://www.forbes.com/sites/valleyvoices/2018...</td>\n",
       "      <td>2018-07-23T16:15:00Z</td>\n",
       "    </tr>\n",
       "  </tbody>\n",
       "</table>\n",
       "</div>"
      ],
      "text/plain": [
       "                                               title  \\\n",
       "0  Economists Can't Write Economically, Driving D...   \n",
       "1  Improve Data Science Productivity with Anacond...   \n",
       "2  The SciArt Movement: Why Facebook, MIT And Aut...   \n",
       "3  The Washington Post, Alibaba.com & ING – Learn...   \n",
       "4                                CEOs: Model Or Die,   \n",
       "\n",
       "                       name  \\\n",
       "0  The Wall Street Journal,   \n",
       "1            Kdnuggets.com,   \n",
       "2               Forbes.com,   \n",
       "3            Kdnuggets.com,   \n",
       "4               Forbes.com,   \n",
       "\n",
       "                                              author  \\\n",
       "0                                     Ben Leubsdorf,   \n",
       "1                                  Matt Mayo Editor,   \n",
       "2  Andrew Goldsmith, Contributor, Andrew Goldsmit...   \n",
       "3                                  Matt Mayo Editor,   \n",
       "4  Valley Voices, Contributor, Valley Voices, Con...   \n",
       "\n",
       "                                                 url           publishedAt  \n",
       "0  https://www.wsj.com/articles/economists-cant-w...  2018-07-23T19:41:59Z  \n",
       "1  https://www.kdnuggets.com/2018/07/anaconda-imp...  2018-07-23T18:32:37Z  \n",
       "2  https://www.forbes.com/sites/andrewgoldsmith/2...  2018-07-23T17:46:00Z  \n",
       "3  https://www.kdnuggets.com/2018/07/paw-london-l...  2018-07-23T17:28:04Z  \n",
       "4  https://www.forbes.com/sites/valleyvoices/2018...  2018-07-23T16:15:00Z  "
      ]
     },
     "execution_count": 9,
     "metadata": {},
     "output_type": "execute_result"
    }
   ],
   "source": [
    "df.head()"
   ]
  },
  {
   "cell_type": "code",
   "execution_count": 10,
   "metadata": {},
   "outputs": [],
   "source": [
    "df.to_csv('data_project_final.csv', index = False, sep=',')"
   ]
  }
 ],
 "metadata": {
  "kernelspec": {
   "display_name": "Python 3",
   "language": "python",
   "name": "python3"
  },
  "language_info": {
   "codemirror_mode": {
    "name": "ipython",
    "version": 3
   },
   "file_extension": ".py",
   "mimetype": "text/x-python",
   "name": "python",
   "nbconvert_exporter": "python",
   "pygments_lexer": "ipython3",
   "version": "3.6.5"
  },
  "toc": {
   "base_numbering": 1,
   "nav_menu": {},
   "number_sections": true,
   "sideBar": true,
   "skip_h1_title": false,
   "title_cell": "Table of Contents",
   "title_sidebar": "Contents",
   "toc_cell": false,
   "toc_position": {},
   "toc_section_display": true,
   "toc_window_display": false
  }
 },
 "nbformat": 4,
 "nbformat_minor": 2
}
